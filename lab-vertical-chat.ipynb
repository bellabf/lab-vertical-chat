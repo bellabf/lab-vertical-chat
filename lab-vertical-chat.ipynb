{
 "cells": [
  {
   "cell_type": "markdown",
   "id": "c23b4dd1",
   "metadata": {
    "id": "c23b4dd1"
   },
   "source": [
    "# Vertical Chat\n",
    "A sample how to build a chat for small business using:\n",
    "\n",
    "* GPT 35\n",
    "* Panel\n",
    "* OpenAI\n",
    "\n",
    "\n",
    "This is just a simple sample to start to understand how the OpenAI API works, and how to create Prompts. It Is really far from beign a complete solution.\n",
    "We are going to introduce some interesting points:\n",
    "\n",
    "* The roles in a conversation.\n",
    "* How is the conversations’ memory preserved?\n",
    "\n",
    "Deeper explanations in the article: [Create Your First Chatbot Using GPT 3.5, OpenAI, Python and Panel.](https://medium.com/towards-artificial-intelligence/create-your-first-chatbot-using-gpt-3-5-openai-python-and-panel-7ec180b9d7f2)"
   ]
  },
  {
   "cell_type": "code",
   "execution_count": 2,
   "id": "a03f026a",
   "metadata": {
    "id": "a03f026a",
    "tags": []
   },
   "outputs": [],
   "source": [
    "import openai\n",
    "import os\n",
    "\n",
    "from dotenv import load_dotenv, find_dotenv\n",
    "_ = load_dotenv(find_dotenv()) # read local .env file\n",
    "\n",
    "OPENAI_API_KEY  = os.getenv('OPENAI_API_KEY')"
   ]
  },
  {
   "cell_type": "code",
   "execution_count": 3,
   "id": "77eac86d",
   "metadata": {
    "id": "77eac86d",
    "tags": []
   },
   "outputs": [],
   "source": [
    "import openai\n",
    "\n",
    "openai.api_key = OPENAI_API_KEY\n",
    "\n",
    "def get_completion(prompt, model=\"gpt-3.5-turbo\", temperature=0): \n",
    "    messages = [{\"role\": \"user\", \"content\": prompt}]\n",
    "    response = openai.ChatCompletion.create(\n",
    "        model=model,\n",
    "        messages=messages,\n",
    "        temperature=temperature, \n",
    "    )\n",
    "    return response.choices[0].message.content\n",
    "\n",
    "def get_completion_from_messages(messages, model=\"gpt-3.5-turbo\", temperature=0): \n",
    "    response = openai.ChatCompletion.create(\n",
    "        model=model,\n",
    "        messages=messages,\n",
    "        temperature=temperature, \n",
    "    )\n",
    "    return response.choices[0].message.content"
   ]
  },
  {
   "cell_type": "code",
   "execution_count": 4,
   "id": "51bec475",
   "metadata": {
    "id": "51bec475",
    "tags": []
   },
   "outputs": [],
   "source": [
    "def add_prompts_conversation(_):\n",
    "    #Get the value introduced by the user\n",
    "    prompt = client_prompt.value_input\n",
    "    client_prompt.value = ''\n",
    "\n",
    "    #Append to the context the User prompt.\n",
    "    context.append({'role':'user', 'content':f\"{prompt}\"})\n",
    "\n",
    "    #Get the response.\n",
    "    response = continue_conversation(context)\n",
    "\n",
    "    #Add the response to the context.\n",
    "    context.append({'role':'assistant', 'content':f\"{response}\"})\n",
    "\n",
    "    #Update the panels to show the conversation.\n",
    "    panels.append(\n",
    "        pn.Row('User:', pn.pane.Markdown(prompt, width=600)))\n",
    "    panels.append(\n",
    "        pn.Row('Assistant:', pn.pane.Markdown(response, width=600)))\n",
    "\n",
    "    return pn.Column(*panels)"
   ]
  },
  {
   "cell_type": "code",
   "execution_count": 5,
   "id": "922f8d24",
   "metadata": {
    "colab": {
     "base_uri": "https://localhost:8080/",
     "height": 573
    },
    "id": "922f8d24",
    "outputId": "93183987-3b29-4430-d8cc-6d6453a98574",
    "tags": []
   },
   "outputs": [
    {
     "data": {
      "application/vnd.jupyter.widget-view+json": {
       "model_id": "d295d449d119450bb598c6cb751bd975",
       "version_major": 2,
       "version_minor": 0
      },
      "text/plain": [
       "Text(value='', placeholder='Enter your message...')"
      ]
     },
     "metadata": {},
     "output_type": "display_data"
    },
    {
     "data": {
      "application/vnd.jupyter.widget-view+json": {
       "model_id": "7b449b680ba14991aaac51f6d0109f87",
       "version_major": 2,
       "version_minor": 0
      },
      "text/plain": [
       "Button(description='Send', style=ButtonStyle())"
      ]
     },
     "metadata": {},
     "output_type": "display_data"
    },
    {
     "data": {
      "application/vnd.jupyter.widget-view+json": {
       "model_id": "4e3eb16337224489897b7eeb1d3d09c8",
       "version_major": 2,
       "version_minor": 0
      },
      "text/plain": [
       "Output()"
      ]
     },
     "metadata": {},
     "output_type": "display_data"
    }
   ],
   "source": [
    "import ipywidgets as widgets\n",
    "from IPython.display import display, clear_output\n",
    "import openai\n",
    "import os\n",
    "openai.api_key = os.environ[\"OPENAI_API_KEY\"]\n",
    "\n",
    "\n",
    "# Create widgets\n",
    "input_box = widgets.Text(placeholder='Enter your message...')\n",
    "send_button = widgets.Button(description='Send')\n",
    "output_area = widgets.Output()\n",
    "\n",
    "context = [ {'role':'system', 'content':\"\"\"\n",
    "Act as an OrderBot, you work collecting orders in a delivery only fast food restaurant called\n",
    "My Dear Frankfurt. \\\n",
    "First welcome the customer, in a very friendly way, then collects the order. \\\n",
    "You wait to collect the entire order, beverages included \\\n",
    "then summarize it and check for a final \\\n",
    "time if everything is ok or the customer wants to add anything else. \\\n",
    "Finally you collect the payment.\\\n",
    "Make sure to clarify all options, extras and sizes to uniquely \\\n",
    "identify the item from the menu.\\\n",
    "You respond in a short, very friendly style. \\\n",
    "The menu includes \\\n",
    "burger  12.95, 10.00, 7.00 \\\n",
    "frankfurt   10.95, 9.25, 6.50 \\\n",
    "sandwich   11.95, 9.75, 6.75 \\\n",
    "fries 4.50, 3.50 \\\n",
    "salad 7.25 \\\n",
    "Toppings: \\\n",
    "extra cheese 2.00, \\\n",
    "mushrooms 1.50 \\\n",
    "martra sausage 3.00 \\\n",
    "canadian bacon 3.50 \\\n",
    "romesco sauce 1.50 \\\n",
    "peppers 1.00 \\\n",
    "Drinks: \\\n",
    "coke 3.00, 2.00, 1.00 \\\n",
    "sprite 3.00, 2.00, 1.00 \\\n",
    "vichy catalan 5.00 \\\n",
    "\"\"\"} ]\n",
    "\n",
    "def on_button_click(b):\n",
    "    user_message = input_box.value\n",
    "    if user_message.strip():\n",
    "        context.append({'role': 'user', 'content': user_message})\n",
    "        \n",
    "        # Generate assistant's response\n",
    "        response = openai.ChatCompletion.create(\n",
    "            model='gpt-3.5-turbo',  # Use 'gpt-4' if you have access\n",
    "            messages=context\n",
    "        )\n",
    "        \n",
    "        assistant_message = response['choices'][0]['message']['content']\n",
    "        context.append({'role': 'assistant', 'content': assistant_message})\n",
    "        \n",
    "        # Display the conversation\n",
    "        with output_area:\n",
    "            clear_output(wait=True)\n",
    "            for message in context[1:]:  # Skip the system message\n",
    "                if message['role'] == 'user':\n",
    "                    print(f\"User: {message['content']}\")\n",
    "                elif message['role'] == 'assistant':\n",
    "                    print(f\"Assistant: {message['content']}\")\n",
    "    \n",
    "    input_box.value = ''  # Clear the input box\n",
    "\n",
    "# Link the button click event to the function\n",
    "send_button.on_click(on_button_click)\n",
    "\n",
    "# Display the widgets\n",
    "display(input_box, send_button, output_area)"
   ]
  },
  {
   "cell_type": "markdown",
   "id": "711f85ad-7069-41e9-8af3-309b2bc81152",
   "metadata": {},
   "source": [
    "# Exercise\n",
    " - Complete the prompts similar to what we did in class. \n",
    "     - Try at least 3 versions\n",
    "     - Be creative\n",
    " - Write a one page report summarizing your findings.\n",
    "     - Were there variations that didn't work well? i.e., where GPT either hallucinated or wrong\n",
    " - What did you learn?"
   ]
  },
  {
   "cell_type": "markdown",
   "id": "2649e307",
   "metadata": {},
   "source": [
    "# Limits of this chatbot\n",
    "When playing with it and adding too many orders, it can make the chat bot break and it restart back into the main question, it will deny to continue when ask for too many items.\n",
    "then you will loose the progress of your order.\n",
    "Giving difrent comands i will break the bot and make or say things out of character.\n",
    "Not to many halusinations but quite fun to use and efficient."
   ]
  },
  {
   "cell_type": "code",
   "execution_count": 6,
   "id": "104813b5-9265-489d-8dc4-2cde2f5ef3af",
   "metadata": {},
   "outputs": [
    {
     "data": {
      "application/vnd.jupyter.widget-view+json": {
       "model_id": "6d74d54594a04bf98d90679396797548",
       "version_major": 2,
       "version_minor": 0
      },
      "text/plain": [
       "Text(value='', placeholder='Enter your message...')"
      ]
     },
     "metadata": {},
     "output_type": "display_data"
    },
    {
     "data": {
      "application/vnd.jupyter.widget-view+json": {
       "model_id": "641dfcc048b54268924891c65338051d",
       "version_major": 2,
       "version_minor": 0
      },
      "text/plain": [
       "Button(description='Send', style=ButtonStyle())"
      ]
     },
     "metadata": {},
     "output_type": "display_data"
    },
    {
     "data": {
      "application/vnd.jupyter.widget-view+json": {
       "model_id": "eca268499666463391622217f582c2ea",
       "version_major": 2,
       "version_minor": 0
      },
      "text/plain": [
       "Output()"
      ]
     },
     "metadata": {},
     "output_type": "display_data"
    }
   ],
   "source": [
    "import ipywidgets as widgets\n",
    "from IPython.display import display, clear_output\n",
    "import openai\n",
    "import os\n",
    "openai.api_key = os.environ[\"OPENAI_API_KEY\"]\n",
    "\n",
    "\n",
    "# Create widgets\n",
    "input_box = widgets.Text(placeholder='Enter your message...')\n",
    "send_button = widgets.Button(description='Send')\n",
    "output_area = widgets.Output()\n",
    "\n",
    "context = [{\"role\": \"system\",\n",
    "  \"content\": \"\"\"\n",
    "Act as an OrderBot, you work collecting orders in a delivery-only Chinese restaurant called\n",
    "Golden Dragon Express. \\\n",
    "First, warmly welcome the customer, then collect their order. \\\n",
    "Wait to gather the entire order, including beverages. \\\n",
    "Summarize the order and check for confirmation to see if the customer wants to add anything else. \\\n",
    "Finally, collect the payment. \\\n",
    "Be sure to clarify all options, extras, and portion sizes so that each item is clearly identified from the menu. \\\n",
    "Respond in a short, friendly, and polite style. \\\n",
    "The menu includes: \\\n",
    "Appetizers: \\\n",
    "Spring Rolls 8.95 (4 pcs), 4.95 (2 pcs) \\\n",
    "Fried Dumplings 9.95 (6 pcs), 5.95 (3 pcs) \\\n",
    "Steamed Bao 6.50 (2 pcs), 12.00 (4 pcs) \\\n",
    "Main Dishes: \\\n",
    "Sweet & Sour Chicken 12.95, 10.00 (small) \\\n",
    "Beef with Broccoli 13.95, 10.95 (small) \\\n",
    "Kung Pao Shrimp 14.95, 11.50 (small) \\\n",
    "Vegetable Fried Rice 9.95 \\\n",
    "Side Dishes: \\\n",
    "Steamed Rice 3.00 \\\n",
    "Egg Fried Rice 4.50 \\\n",
    "Noodles 5.00 \\\n",
    "Toppings: \\\n",
    "Extra Chicken 3.00 \\\n",
    "Shrimp 4.00 \\\n",
    "Tofu 2.00 \\\n",
    "Vegetables 1.50 \\\n",
    "Drinks: \\\n",
    "Jasmine Tea 3.00 \\\n",
    "Coke 2.50 \\\n",
    "Sprite 2.50 \\\n",
    "Bottled Water 1.50\n",
    "\"\"\"\n",
    "}]\n",
    "\n",
    "\n",
    "def on_button_click(b):\n",
    "    user_message = input_box.value\n",
    "    if user_message.strip():\n",
    "        context.append({'role': 'user', 'content': user_message})\n",
    "        \n",
    "        # Generate assistant's response\n",
    "        response = openai.ChatCompletion.create(\n",
    "            model='gpt-3.5-turbo',  # Use 'gpt-4' if you have access\n",
    "            messages=context\n",
    "        )\n",
    "        \n",
    "        assistant_message = response['choices'][0]['message']['content']\n",
    "        context.append({'role': 'assistant', 'content': assistant_message})\n",
    "        \n",
    "        # Display the conversation\n",
    "        with output_area:\n",
    "            clear_output(wait=True)\n",
    "            for message in context[1:]:  # Skip the system message\n",
    "                if message['role'] == 'user':\n",
    "                    print(f\"User: {message['content']}\")\n",
    "                elif message['role'] == 'assistant':\n",
    "                    print(f\"Assistant: {message['content']}\")\n",
    "    \n",
    "    input_box.value = ''  # Clear the input box\n",
    "\n",
    "# Link the button click event to the function\n",
    "send_button.on_click(on_button_click)\n",
    "\n",
    "# Display the widgets\n",
    "display(input_box, send_button, output_area)"
   ]
  },
  {
   "cell_type": "code",
   "execution_count": 7,
   "metadata": {},
   "outputs": [
    {
     "data": {
      "application/vnd.jupyter.widget-view+json": {
       "model_id": "2be53f53764e433bbbe7231222dea75b",
       "version_major": 2,
       "version_minor": 0
      },
      "text/plain": [
       "Text(value='', placeholder='Enter your message...')"
      ]
     },
     "metadata": {},
     "output_type": "display_data"
    },
    {
     "data": {
      "application/vnd.jupyter.widget-view+json": {
       "model_id": "ede83fbe694d422fa26b7c8921e645a7",
       "version_major": 2,
       "version_minor": 0
      },
      "text/plain": [
       "Button(description='Send', style=ButtonStyle())"
      ]
     },
     "metadata": {},
     "output_type": "display_data"
    },
    {
     "data": {
      "application/vnd.jupyter.widget-view+json": {
       "model_id": "c4302c68798741b1bf0783dd28cbafd2",
       "version_major": 2,
       "version_minor": 0
      },
      "text/plain": [
       "Output()"
      ]
     },
     "metadata": {},
     "output_type": "display_data"
    }
   ],
   "source": [
    "import ipywidgets as widgets\n",
    "from IPython.display import display, clear_output\n",
    "import openai\n",
    "import os\n",
    "openai.api_key = os.environ[\"OPENAI_API_KEY\"]\n",
    "\n",
    "\n",
    "# Create widgets\n",
    "input_box = widgets.Text(placeholder='Enter your message...')\n",
    "send_button = widgets.Button(description='Send')\n",
    "output_area = widgets.Output()\n",
    "\n",
    "context = [{\n",
    "  \"role\": \"system\",\n",
    "  \"content\": \"\"\"\n",
    "Act as a ReservationBot for a self check-in hotel called EasyStay Inn. \\\n",
    "First, warmly greet the customer, then collect the necessary information for the reservation. \\\n",
    "Gather the check-in and check-out dates, number of guests, and room preferences. \\\n",
    "Make sure to clarify room options, special requests, and any available add-ons. \\\n",
    "Summarize the reservation details and confirm if everything is correct or if the customer needs to add anything else. \\\n",
    "Finally, collect payment and provide instructions for self check-in, including any access codes or details. \\\n",
    "Respond in a short, friendly, and polite style. \\\n",
    "Room options: \\\n",
    "Single Room 85.00 per night \\\n",
    "Double Room 120.00 per night \\\n",
    "Suite 180.00 per night \\\n",
    "Available Add-ons: \\\n",
    "Breakfast 15.00 per person \\\n",
    "Late Checkout 30.00 \\\n",
    "Parking 10.00 per night \\\n",
    "City Tour 50.00 per person \\\n",
    "Wi-Fi and Self Check-in: Complimentary. \\\n",
    "Check-in starts at 3:00 PM, and check-out is by 11:00 AM.\n",
    "\"\"\"\n",
    "}]\n",
    "\n",
    "\n",
    "def on_button_click(b):\n",
    "    user_message = input_box.value\n",
    "    if user_message.strip():\n",
    "        context.append({'role': 'user', 'content': user_message})\n",
    "        \n",
    "        # Generate assistant's response\n",
    "        response = openai.ChatCompletion.create(\n",
    "            model='gpt-3.5-turbo',  # Use 'gpt-4' if you have access\n",
    "            messages=context\n",
    "        )\n",
    "        \n",
    "        assistant_message = response['choices'][0]['message']['content']\n",
    "        context.append({'role': 'assistant', 'content': assistant_message})\n",
    "        \n",
    "        # Display the conversation\n",
    "        with output_area:\n",
    "            clear_output(wait=True)\n",
    "            for message in context[1:]:  # Skip the system message\n",
    "                if message['role'] == 'user':\n",
    "                    print(f\"User: {message['content']}\")\n",
    "                elif message['role'] == 'assistant':\n",
    "                    print(f\"Assistant: {message['content']}\")\n",
    "    \n",
    "    input_box.value = ''  # Clear the input box\n",
    "\n",
    "# Link the button click event to the function\n",
    "send_button.on_click(on_button_click)\n",
    "\n",
    "# Display the widgets\n",
    "display(input_box, send_button, output_area)"
   ]
  },
  {
   "cell_type": "code",
   "execution_count": 9,
   "id": "7e21aea0",
   "metadata": {},
   "outputs": [
    {
     "data": {
      "application/vnd.jupyter.widget-view+json": {
       "model_id": "d69c9f8a5a2b426493b736c2e6e1a2f0",
       "version_major": 2,
       "version_minor": 0
      },
      "text/plain": [
       "Text(value='', placeholder='Enter your message...')"
      ]
     },
     "metadata": {},
     "output_type": "display_data"
    },
    {
     "data": {
      "application/vnd.jupyter.widget-view+json": {
       "model_id": "7952722776414e0f9174ae1ba4163dca",
       "version_major": 2,
       "version_minor": 0
      },
      "text/plain": [
       "Button(description='Send', style=ButtonStyle())"
      ]
     },
     "metadata": {},
     "output_type": "display_data"
    },
    {
     "data": {
      "application/vnd.jupyter.widget-view+json": {
       "model_id": "90b67e84410f4565af10dd512deb63ec",
       "version_major": 2,
       "version_minor": 0
      },
      "text/plain": [
       "Output()"
      ]
     },
     "metadata": {},
     "output_type": "display_data"
    }
   ],
   "source": [
    "import ipywidgets as widgets\n",
    "from IPython.display import display, clear_output\n",
    "import openai\n",
    "import os\n",
    "openai.api_key = os.environ[\"OPENAI_API_KEY\"]\n",
    "\n",
    "\n",
    "# Create widgets\n",
    "input_box = widgets.Text(placeholder='Enter your message...')\n",
    "send_button = widgets.Button(description='Send')\n",
    "output_area = widgets.Output()\n",
    "\n",
    "context = [{\n",
    "  \"role\": \"system\",\n",
    "  \"content\": \"\"\"\n",
    "Welcome to GrooveTickets, your gateway to an unforgettable night! Let's get you set up for the hottest DJ event in town. \\\n",
    "First, let me know which show you're looking to attend and how many tickets you need—make sure you grab one for everyone in your crew! \\\n",
    "We've got different ticket options to match your vibe: General Admission for the main floor, VIP for the premium experience with exclusive lounge access, and Superfan for front-row madness and meet-and-greet opportunities. \\\n",
    "Want to add a little something extra to the night? We’ve got special add-ons like drink packages, backstage passes, and even official event merch! \\\n",
    "I’ll gather everything, summarize your order, and make sure it’s perfect before we lock it in. Need to tweak something? No worries—just let me know. \\\n",
    "Once you're ready, I’ll collect the payment and shoot over your e-tickets along with all the event details. Get ready to dance the night away! \\\n",
    "Ticket Options: \\\n",
    "General Admission: 50.00 \\\n",
    "VIP Access: 100.00 (includes exclusive lounge and free drink) \\\n",
    "Superfan Package: 200.00 (front-row, meet-and-greet, exclusive merch) \\\n",
    "Add-ons: \\\n",
    "Drink Package: 25.00 \\\n",
    "Backstage Pass: 75.00 \\\n",
    "Event Merch: 40.00\n",
    "\"\"\"\n",
    "}]\n",
    "\n",
    "\n",
    "def on_button_click(b):\n",
    "    user_message = input_box.value\n",
    "    if user_message.strip():\n",
    "        context.append({'role': 'user', 'content': user_message})\n",
    "        \n",
    "        # Generate assistant's response\n",
    "        response = openai.ChatCompletion.create(\n",
    "            model='gpt-3.5-turbo',  # Use 'gpt-4' if you have access\n",
    "            messages=context\n",
    "        )\n",
    "        \n",
    "        assistant_message = response['choices'][0]['message']['content']\n",
    "        context.append({'role': 'assistant', 'content': assistant_message})\n",
    "        \n",
    "        # Display the conversation\n",
    "        with output_area:\n",
    "            clear_output(wait=True)\n",
    "            for message in context[1:]:  # Skip the system message\n",
    "                if message['role'] == 'user':\n",
    "                    print(f\"User: {message['content']}\")\n",
    "                elif message['role'] == 'assistant':\n",
    "                    print(f\"Assistant: {message['content']}\")\n",
    "    \n",
    "    input_box.value = ''  # Clear the input box\n",
    "\n",
    "# Link the button click event to the function\n",
    "send_button.on_click(on_button_click)\n",
    "\n",
    "# Display the widgets\n",
    "display(input_box, send_button, output_area)"
   ]
  }
 ],
 "metadata": {
  "colab": {
   "include_colab_link": true,
   "provenance": []
  },
  "kernelspec": {
   "display_name": "Python 3",
   "language": "python",
   "name": "python3"
  },
  "language_info": {
   "codemirror_mode": {
    "name": "ipython",
    "version": 3
   },
   "file_extension": ".py",
   "mimetype": "text/x-python",
   "name": "python",
   "nbconvert_exporter": "python",
   "pygments_lexer": "ipython3",
   "version": "3.11.9"
  }
 },
 "nbformat": 4,
 "nbformat_minor": 5
}
